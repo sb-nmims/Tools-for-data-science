{
 "cells": [
  {
   "cell_type": "markdown",
   "id": "c16dec2c",
   "metadata": {},
   "source": [
    "# My Jupyter Notebook on IBM Watson Studio"
   ]
  },
  {
   "cell_type": "markdown",
   "id": "7707ff07",
   "metadata": {},
   "source": [
    "## Sachin Bhandari"
   ]
  },
  {
   "cell_type": "markdown",
   "id": "29d75488",
   "metadata": {},
   "source": [
    "### Associate Developer"
   ]
  },
  {
   "cell_type": "markdown",
   "id": "3e4d7a55",
   "metadata": {},
   "source": [
    "#### I am interested in data science"
   ]
  },
  {
   "cell_type": "markdown",
   "id": "f9bf682d",
   "metadata": {},
   "source": [
    "##### This is very nice course"
   ]
  },
  {
   "cell_type": "markdown",
   "id": "ee5b41bc",
   "metadata": {},
   "source": [
    "###### I will complete it soon"
   ]
  },
  {
   "cell_type": "code",
   "execution_count": 7,
   "id": "86b6d166",
   "metadata": {},
   "outputs": [
    {
     "name": "stdout",
     "output_type": "stream",
     "text": [
      "Hello Tools for Data Science\n"
     ]
    }
   ],
   "source": [
    "print(\"Hello Tools for Data Science\")"
   ]
  }
 ],
 "metadata": {
  "kernelspec": {
   "display_name": "Python 3",
   "language": "python",
   "name": "python3"
  },
  "language_info": {
   "codemirror_mode": {
    "name": "ipython",
    "version": 3
   },
   "file_extension": ".py",
   "mimetype": "text/x-python",
   "name": "python",
   "nbconvert_exporter": "python",
   "pygments_lexer": "ipython3",
   "version": "3.8.8"
  }
 },
 "nbformat": 4,
 "nbformat_minor": 5
}
