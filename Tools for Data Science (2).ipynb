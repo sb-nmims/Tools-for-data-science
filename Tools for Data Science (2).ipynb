{
 "cells": [
  {
   "cell_type": "markdown",
   "id": "ed91e0ef",
   "metadata": {},
   "source": [
    "# My Jupyter Notebook on IBM Watson Studio"
   ]
  },
  {
   "cell_type": "markdown",
   "id": "365e7dd2",
   "metadata": {},
   "source": [
    "## Sachin Bhandari"
   ]
  },
  {
   "cell_type": "markdown",
   "id": "1fe9c1b2",
   "metadata": {},
   "source": [
    "### Associate Developer"
   ]
  },
  {
   "cell_type": "markdown",
   "id": "a8fdc4f7",
   "metadata": {},
   "source": [
    "#### I am interested in data science"
   ]
  },
  {
   "cell_type": "markdown",
   "id": "4849b8b5",
   "metadata": {},
   "source": [
    "##### This is very nice course"
   ]
  },
  {
   "cell_type": "markdown",
   "id": "63bfefc9",
   "metadata": {},
   "source": [
    "###### I will complete it soon"
   ]
  },
  {
   "cell_type": "code",
   "execution_count": 9,
   "id": "159b2def",
   "metadata": {},
   "outputs": [
    {
     "name": "stdout",
     "output_type": "stream",
     "text": [
      "Hello Tools for Data Science\n"
     ]
    }
   ],
   "source": [
    "print(\"Hello Tools for Data Science\")"
   ]
  },
  {
   "cell_type": "code",
   "execution_count": 10,
   "id": "d56d7381",
   "metadata": {},
   "outputs": [
    {
     "name": "stdout",
     "output_type": "stream",
     "text": [
      "The sum of 1.5 and 6.3 is 7.8\n"
     ]
    }
   ],
   "source": [
    "# This program adds two numbers\n",
    "\n",
    "num1 = 1.5\n",
    "num2 = 6.3\n",
    "\n",
    "# Add two numbers\n",
    "sum = num1 + num2\n",
    "\n",
    "# Display the sum\n",
    "print('The sum of {0} and {1} is {2}'.format(num1, num2, sum))"
   ]
  },
  {
   "cell_type": "code",
   "execution_count": null,
   "id": "ea082a61",
   "metadata": {},
   "outputs": [],
   "source": []
  }
 ],
 "metadata": {
  "kernelspec": {
   "display_name": "Python 3",
   "language": "python",
   "name": "python3"
  },
  "language_info": {
   "codemirror_mode": {
    "name": "ipython",
    "version": 3
   },
   "file_extension": ".py",
   "mimetype": "text/x-python",
   "name": "python",
   "nbconvert_exporter": "python",
   "pygments_lexer": "ipython3",
   "version": "3.8.8"
  }
 },
 "nbformat": 4,
 "nbformat_minor": 5
}
